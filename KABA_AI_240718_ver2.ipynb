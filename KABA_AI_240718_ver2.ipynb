{
 "cells": [
  {
   "cell_type": "markdown",
   "metadata": {},
   "source": [
    "# Setting openai"
   ]
  },
  {
   "cell_type": "code",
   "execution_count": 2,
   "metadata": {},
   "source": [
    "# !pip install pdfplumber"
   ],
   "outputs": []
  },
  {
   "cell_type": "code",
   "execution_count": 1,
   "metadata": {
    "ExecuteTime": {
     "end_time": "2024-07-16T12:42:57.959070Z",
     "start_time": "2024-07-16T12:42:55.897118Z"
    }
   },
   "source": [
    "# !pip list"
   ],
   "outputs": []
  },
  {
   "cell_type": "code",
   "execution_count": 9,
   "metadata": {},
   "source": [
    "#pip list --format=freeze > requirements.txt"
   ],
   "outputs": []
  },
  {
   "cell_type": "code",
   "execution_count": 1,
   "metadata": {
    "ExecuteTime": {
     "end_time": "2024-07-18T05:22:14.889127Z",
     "start_time": "2024-07-18T05:22:13.070618Z"
    }
   },
   "source": [
    "import os\n",
    "import json\n",
    "import requests\n",
    "import datetime\n",
    "from openai import AzureOpenAI\n",
    "from dotenv import load_dotenv\n",
    "import pdfplumber\n",
    "import tiktoken\n",
    "from datetime import datetime\n",
    "from PIL import Image\n",
    "import io\n",
    "import re\n",
    "import time\n",
    "\n",
    "# 24.07.10 test\n",
    "load_dotenv()\n",
    "\n",
    "client = AzureOpenAI(\n",
    "    azure_endpoint = os.getenv(\"AZURE_OPENAI_ENDPOINT\",\"\").strip(),\n",
    "    api_key        = os.getenv(\"AZURE_OPENAI_API_KEY\"),\n",
    "    api_version    = os.getenv(\"OPENAI_API_VERSION\")\n",
    ")\n",
    "\n",
    "deployment_name = os.getenv('DEPLOYMENT_NAME') # gpt-4o"
   ],
   "outputs": []
  },
  {
   "cell_type": "markdown",
   "metadata": {},
   "source": [
    "# load data"
   ]
  },
  {
   "cell_type": "code",
   "execution_count": 2,
   "metadata": {
    "ExecuteTime": {
     "end_time": "2024-07-18T05:22:41.434174Z",
     "start_time": "2024-07-18T05:22:41.427443Z"
    },
    "code_folding": [
     4
    ]
   },
   "source": [
    "# pdf에 있는 text list 형태로 얻기\n",
    "# list index = 페이지 번호\n",
    "\n",
    "# 자동으로 판단하기 어려움 -> flag로 책 형태 제공 (한페이지에 하나인지, 한페이지에 두 개 이상인)\n",
    "def get_pdf_text(pdf_path, is_subpage):\n",
    "    pdf_text_list = []\n",
    "\n",
    "    with pdfplumber.open(pdf_path) as pdf:\n",
    "        # PDF 페이지 수\n",
    "        num_pages = len(pdf.pages)\n",
    "        \n",
    "        # 각 페이지의 텍스트 추출\n",
    "        for page_num in range(num_pages):\n",
    "            page = pdf.pages[page_num]\n",
    "            # sub page 존재\n",
    "            if is_subpage == True:\n",
    "                # subpage 판단\n",
    "                left = page.crop((0, 0, 0.5 * page.width, 0.9 * page.height))\n",
    "                right = page.crop((0.5 * page.width, 0, page.width, page.height))\n",
    "            \n",
    "                l_text = left.extract_text()\n",
    "                r_text = right.extract_text()\n",
    "\n",
    "                # subpage 내용 합치기\n",
    "                text = l_text + \" \" + r_text\n",
    "            # sub page 없음\n",
    "            else:\n",
    "                text = page.extract_text()\n",
    "            \n",
    "            pdf_text_list.append(text)\n",
    "\n",
    "    return pdf_text_list, num_pages"
   ],
   "outputs": []
  },
  {
   "cell_type": "code",
   "execution_count": 3,
   "metadata": {
    "ExecuteTime": {
     "end_time": "2024-07-18T05:22:52.416489Z",
     "start_time": "2024-07-18T05:22:42.033911Z"
    }
   },
   "source": [
    "# 로미오와 줄리엣 pdf 데이터 얻기\n",
    "rj_pdf_path = 'data/romeo and juliet.pdf'\n",
    "\n",
    "rj_text_list, rj_num_pages = get_pdf_text(rj_pdf_path, is_subpage=False)\n",
    "print(f'로미오와 줄리엣 페이지 수: {rj_num_pages}')\n",
    "\n",
    "# 책 전체 토큰 수 측정\n",
    "rj_str = ''.join(rj_text_list)\n",
    "tokenizer = tiktoken.get_encoding(\"cl100k_base\")\n",
    "print(f'로미오와 줄리엣 토큰 수 : {len(tokenizer.encode(rj_str))}')"
   ],
   "outputs": []
  },
  {
   "cell_type": "code",
   "execution_count": 4,
   "metadata": {
    "ExecuteTime": {
     "end_time": "2024-07-18T05:22:55.233854Z",
     "start_time": "2024-07-18T05:22:52.420909Z"
    }
   },
   "source": [
    "# 어린 왕자 pdf 데이터 얻기\n",
    "lp_pdf_path = 'data/little_prince.pdf'\n",
    "\n",
    "lp_text_list, lp_num_pages = get_pdf_text(lp_pdf_path, is_subpage=True)\n",
    "print(f'어린왕자 페이지 수: {lp_num_pages}')\n",
    "\n",
    "# 책 전체 토큰 수 측정\n",
    "lp_str = ''.join(lp_text_list)\n",
    "tokenizer = tiktoken.get_encoding(\"cl100k_base\")\n",
    "print(f'어린왕자 토큰 수 : {len(tokenizer.encode(lp_str))}')"
   ],
   "outputs": []
  },
  {
   "cell_type": "code",
   "execution_count": 39,
   "metadata": {
    "ExecuteTime": {
     "end_time": "2024-07-18T05:41:52.619333Z",
     "start_time": "2024-07-18T05:41:52.608886Z"
    },
    "code_folding": [
     45
    ]
   },
   "source": [
    "# 프롬프트 정의 \n",
    "prompt_dict = {\n",
    "    # 핵심적인, 하나를 단어 추가\n",
    "    \"relation_map\" : (\n",
    "        \"반드시 아래의 ### 읽은 페이지 내용을 기반으로 인물에 대한 관계도를 만들어. \\n\"\n",
    "        \"아래의 읽은 페이지 내용을 기반으로 핵심적인 주인공 하나를 파악하고, 반드시 파악한 주인공을 기반으로 등장하는 인물들의 관계를 표현해줘.\\n\"\n",
    "        \"아래의 json 형식으로 대답하고, 반드시 모든 등장 인물의 이름은 바꾸지 않아야 해.\\n\"\n",
    "        \"주인공과 등장 인물은 ','로 구분하여 []형태로 표현해.\\n\"\n",
    "        \"관계는 모든 인물에 대하여 인물1, 인물2, 관계로 표현해.\\n\\n\"\n",
    "        \"- 주인공 : [] \\n\"\n",
    "        \"- 등장 인물 [] \\n\"\n",
    "        \"- 관계 : [인물 1, 인물 2, 관계] \\n\"\n",
    "        \"### 읽은 페이지 내용 : {context} \\n\\n\"\n",
    "        \"답변을 진행한 후, 주인공의 이름을 확인하고, 모든 등장 인물들의 이름이 바뀌었는지 다시 한번 확인해줘. \\n\"\n",
    "        \"차례차례 잘 생각해보자. json 형식으로 잘 대답하면 $200의 팁을 줄게.\"\n",
    "    ),\n",
    "    \n",
    "    # 그림 일기 생성 (책 제목 포함, 24.07.18 버전)\n",
    "    \"diary_img_with_book\" : (\n",
    "        \"지금부터 책 제목이랑 유명한 문장을 알려줄게. 여기서 중요한 키워드를 제일 먼저 뽑아줘. \\n\" \n",
    "        \"이 키워드를 가지고 예쁜 삽화를 만들거니까 삽화 묘사를 잘 해주는 키워드로 부탁해. 키워드는 한 줄로 정리해줘. 그림 스타일은 {img_style}야. \\n\"\n",
    "        \"-책 제목 : {book_name} \\n\"\n",
    "        \"-문장: {fav_sent} \\n\"\n",
    "        \"한 줄로 정리된 키워드를 기반으로 텍스트가 없는 동화책 삽화 이미지를 만들어줘. \"\n",
    "    ),\n",
    "    \n",
    "    # 그림 일기 생성 (책 제목 제거)\n",
    "    \"diary_img\" : (\n",
    "        \"너의 유일한 역할은 그림 책에 들어가는 그림을 만드는 것이다. \\n\"\n",
    "        \"'{fav_sent}' 라는 문장을 보고 떠오르는 삽화를 생성해.\"\n",
    "    ),\n",
    "\n",
    "    # 줄거리 요약 + 키워드 생성\n",
    "    \"summary_keyword_plot\" : (\n",
    "        \"반드시 아래의 ### 읽은 페이지 내용을 아래의 지시사항 기반으로 4개의 문장으로 요약해. \\n\"\n",
    "        \"# 지시사항 1 : ### 너가 읽은 페이지 내용을 기반으로 핵심적인 주인공 하나를 파악 \\n\"\n",
    "        \"# 지시사항 2 : 핵심적인 주인공이라 생각하고 ### 읽은 페이지 내용을 4개의 문장으로 요약 \\n\"\n",
    "        \"# 지사사항 3 : 4개의 문장 별로 아래의 형태를 가지는 json 형태로 답변 \\n\\n\"\n",
    "        \"- 문장 번호 : \\n\"\n",
    "        \"- 요약 문장 : \\n\"\n",
    "        \"- 키워드 : \\n\\n\"\n",
    "        \"### 읽은 페이지 내용 : {context} \\n\\n\"\n",
    "        \"차례차례 잘 생각해보자. json 형식으로 잘 대답하면 $200의 팁을 줄게.\"\n",
    "    ),\n",
    "\n",
    "    # 줄거리 키워드에 따른 그림 생성\n",
    "    \"summary_img\" : (\n",
    "        \"내가 알려주는 키워드와 이미지 스타일을 알려줄테니까 떠오르는 삽화 이미지를 만들어줘. \\n\"\n",
    "        \"- 키워드 : {keywords} \\n\"\n",
    "        \"- 이미지 스타일 : {img_style}\"\n",
    "    ),\n",
    "    \n",
    "    # KABA WIKI\n",
    "    \"kaba_wiki\" : (\n",
    "        \"반드시 아래의 ### 읽은 페이지 내용을 기반으로 들어온 ### 질문에 답변해. \\n\\n\"\n",
    "        \"### 질문 : {user_query} \\n\\n\"\n",
    "        \"### 읽은 페이지 내용 : {context} \\n\\n\"\n",
    "        \"차례차례 잘 생각해보자. json 형식으로 잘 대답하면 $200의 팁을 줄게.\"\n",
    "    )\n",
    "}"
   ],
   "outputs": []
  },
  {
   "cell_type": "markdown",
   "metadata": {},
   "source": [
    "# 인물관계도"
   ]
  },
  {
   "cell_type": "code",
   "execution_count": 6,
   "metadata": {
    "ExecuteTime": {
     "end_time": "2024-07-18T05:28:52.332956Z",
     "start_time": "2024-07-18T05:28:52.322136Z"
    },
    "code_folding": [
     1,
     22
    ]
   },
   "source": [
    "# 페이지 수만큼 텍스트 자르기\n",
    "def slice_pdf_page(start_page, end_page, pdf_text_list):\n",
    "    # 첫 idx 보정\n",
    "    if start_page == 0:\n",
    "        start_page = 1\n",
    "    \n",
    "    slice_pdf_str = ''\n",
    "\n",
    "    try:\n",
    "        for idx in range(start_page-1, end_page):\n",
    "            slice_pdf_str = slice_pdf_str + '\\n\\n' + pdf_text_list[idx]\n",
    "    except Exception as e:\n",
    "        print('e:' , e)\n",
    "        pass\n",
    "\n",
    "    # slice string 보정\n",
    "    mod_slice_pdf_str = [x for x in slice_pdf_str.split('\\n') if len(x) > 0]\n",
    "    mod_slice_pdf_str = ' '.join(mod_slice_pdf_str)\n",
    "\n",
    "    return mod_slice_pdf_str\n",
    "    \n",
    "# 인물 관계도 데이터 얻기\n",
    "def get_relation_map(prompt_dict, start_page, end_page, pdf_text_list):\n",
    "    # 소설 시작부터 현재까지 읽은 페이지 데이터 얻기\n",
    "    context_book_str = slice_pdf_page(start_page, end_page, pdf_text_list)\n",
    "    \n",
    "    # system에 들어갈 system 메시지 작성\n",
    "    system_msg = \"너는 10년동안 책 안에 있는 인물들로 인물 관계도를 만드는 전문가야. 지시사항에 맞게 인물 관계도를 만들어.\"\n",
    "\n",
    "    # prompt 선언\n",
    "    prompt = prompt_dict['relation_map'].format(context=context_book_str)\n",
    "\n",
    "    # 결과\n",
    "    response = client.chat.completions.create(\n",
    "        model=deployment_name,\n",
    "        messages=[\n",
    "            {\"role\" : \"system\", \"content\" : system_msg},\n",
    "            {\"role\" : \"user\", \"content\" : prompt}\n",
    "        ]\n",
    "    )\n",
    "\n",
    "    result = response.choices[0].message.content\n",
    "\n",
    "    # preprocessing result\n",
    "    start_idx = result.find('{') # 맨 처음\n",
    "    end_idx = result.rfind('}') # 맨 마지막\n",
    "\n",
    "    relation_map_dict = json.loads(result[start_idx:end_idx+1])\n",
    "    relation_map_keys = list(relation_map_dict.keys())\n",
    "\n",
    "    main_character = relation_map_dict[relation_map_keys[0]] # 주인공\n",
    "    characters = relation_map_dict[relation_map_keys[1]] # 등장인물\n",
    "    relation_map = relation_map_dict[relation_map_keys[2]] # 인물관계\n",
    "    # event = relation_map_dict[relation_map_keys[3]] # 사건\n",
    "\n",
    "    return main_character, characters, relation_map, # event"
   ],
   "outputs": []
  },
  {
   "cell_type": "code",
   "execution_count": 7,
   "metadata": {
    "ExecuteTime": {
     "end_time": "2024-07-18T05:29:10.010404Z",
     "start_time": "2024-07-18T05:28:55.784614Z"
    }
   },
   "source": [
    "# 어린왕자 22p까지 읽었다고 가정\n",
    "\n",
    "book_name = '어린왕자' # 넣을지 말지 고민중, 넣으면 주인공을 어린왕자로 만듦. / 로미오와 줄리엣으로도 테스트 필요\n",
    "start_page = 4\n",
    "end_page = 22\n",
    "\n",
    "main_character, characters, relation_map = get_relation_map(prompt_dict, start_page, end_page, lp_text_list) # event 제거\n",
    "\n",
    "# (기존프롬프트) test 1 : 14.4초 / test 2 : 19.5초 / test 3 : 10.2초\n",
    "# (사건내용제거) test 1 : 8.0초 / 6.4초 / 6.0초\n",
    "print(f'main_character: {main_character}')\n",
    "print(f'characters: {characters}')\n",
    "print(f'relation_map: {relation_map}')\n",
    "# print(f'event: {event}')"
   ],
   "outputs": []
  },
  {
   "cell_type": "code",
   "execution_count": 8,
   "metadata": {
    "ExecuteTime": {
     "end_time": "2024-07-18T05:29:29.235575Z",
     "start_time": "2024-07-18T05:29:29.223706Z"
    },
    "code_folding": [
     1,
     22
    ]
   },
   "source": [
    "# 변환 함수\n",
    "def new_list_to_json(main_character, input_list):\n",
    "    nodes = {}\n",
    "    \n",
    "    # 모든 노드에 대해 초기화\n",
    "    for parent, child, relationship in input_list:\n",
    "        if parent not in nodes:\n",
    "            nodes[parent] = {\"name\": parent, \"children\": []}\n",
    "        if child not in nodes:\n",
    "            nodes[child] = {\"name\": child, \"relationship\": relationship, \"children\": []}\n",
    "    \n",
    "    # 부모-자식 관계 설정\n",
    "    for parent, child, relationship in input_list:\n",
    "        child_node = nodes[child]\n",
    "        child_node[\"relationship\"] = relationship\n",
    "        nodes[parent][\"children\"].append(child_node)\n",
    "    \n",
    "    # 루트 노드 생성\n",
    "    root = nodes[main_character]\n",
    "    return root\n",
    "\n",
    "# JSON 변환\n",
    "relation_map_json = new_list_to_json(main_character[0], relation_map)\n",
    "\n",
    "# 아래 데이터 전달\n",
    "relation_map_json"
   ],
   "outputs": []
  },
  {
   "cell_type": "markdown",
   "metadata": {},
   "source": [
    "# 그림 일기 생성"
   ]
  },
  {
   "cell_type": "markdown",
   "metadata": {},
   "source": [
    "- 이슈사항 1) relation map과 다른 Client를 새로 생성해야 되는지 잘 모르겠음\n",
    "- 이슈사항 2) 장르(스타일?) 정보 필요?, 책 제목 프롬프트에 넣어야 하는지?\n",
    "- 이슈사항 3) 그림에서 텍스트 빼는 방법 (오타가 너무 많음)\n",
    "- https://community.openai.com/t/keep-dalle-from-including-text/32556/13\n",
    "- https://community.openai.com/t/add-negative-prompt-important/526543/4"
   ]
  },
  {
   "cell_type": "code",
   "execution_count": 9,
   "metadata": {
    "ExecuteTime": {
     "end_time": "2024-07-18T05:29:39.510184Z",
     "start_time": "2024-07-18T05:29:39.506500Z"
    }
   },
   "source": [
    "# 개발 참고\n",
    "# https://www.analyticsvidhya.com/blog/2024/07/dall-e3/"
   ],
   "outputs": []
  },
  {
   "cell_type": "code",
   "execution_count": 10,
   "metadata": {
    "ExecuteTime": {
     "end_time": "2024-07-18T05:29:39.859487Z",
     "start_time": "2024-07-18T05:29:39.850480Z"
    },
    "code_folding": [
     1,
     21,
     43
    ]
   },
   "source": [
    "# 이미지 생성\n",
    "def generate_image(prompt, n=1, size=\"1024x1024\"):\n",
    "    try:\n",
    "        response = client.images.generate(\n",
    "            model=\"dall-e-3\",\n",
    "            # 원하는 화풍???? 찾기, \n",
    "            prompt=prompt,\n",
    "            n=n,\n",
    "            size=size,\n",
    "        )\n",
    "        urls = [img.url for img in response.data]\n",
    "        # print(f\"Generated URLs: {urls}\")  # Debug print\n",
    "\n",
    "        return urls\n",
    "\n",
    "    except Exception as e:\n",
    "        print(f\"An error occurred in generate_image: {e}\")\n",
    "\n",
    "        return []\n",
    "\n",
    "# print -> logging으로 변환?   \n",
    "def save_image(url, filename):\n",
    "    \"\"\"\n",
    "    Save an image from a URL to a file\n",
    "\n",
    "    :param url: URL of the image\n",
    "    :param filename: Name of the file to save the image\n",
    "    \"\"\"\n",
    "    try:\n",
    "        # print(f\"Attempting to save image from URL: {url}\")  # Debug print\n",
    "        response = requests.get(url)\n",
    "        response.raise_for_status()  # Raise an exception for bad status codes\n",
    "        img = Image.open(io.BytesIO(response.content))\n",
    "        img.save(filename)\n",
    "        # print(f\"Image saved successfully as {filename}\")\n",
    "\n",
    "    except requests.exceptions.RequestException as e:\n",
    "        print(f\"Error fetching the image: {e}\")\n",
    "\n",
    "    except Exception as e:\n",
    "        print(f\"Error saving the image: {e}\")\n",
    "\n",
    "# print -> logging으로 변환?\n",
    "def save_img_by_url(gen_urls, img_file_path):\n",
    "    if gen_urls:\n",
    "        for i, url in enumerate(gen_urls):\n",
    "            if url:  # Check if URL is not empty\n",
    "                save_image(url, img_file_path)\n",
    "            else:\n",
    "                print(f\"Empty URL for image {i+1}\")\n",
    "    else:\n",
    "        print(\"No images were generated.\")"
   ],
   "outputs": []
  },
  {
   "cell_type": "code",
   "execution_count": 19,
   "metadata": {
    "ExecuteTime": {
     "end_time": "2024-07-18T05:31:33.805007Z",
     "start_time": "2024-07-18T05:31:33.799594Z"
    },
    "code_folding": [
     1
    ]
   },
   "source": [
    "# 좋아하는 문구 기반의 이미지 파일 저장 (책 이름 사용 플래그 추가)\n",
    "def gen_diary_img(book_name, img_style, fav_sent, flag_use_book_nm, prompt_dict):\n",
    "    # save path\n",
    "    diary_file_path = f'img/test_diary/{book_name}_{str(flag_use_book_nm)}_diary.png'\n",
    "\n",
    "    # 그림 일기 프롬프트 정의\n",
    "    if flag_use_book_nm == False:\n",
    "        # 책 이름 없이 그림 생성\n",
    "        diary_prompt = prompt_dict['diary_img'].format(fav_sent=fav_sent)\n",
    "    else: \n",
    "        # 책 이름 넣고 그림 생성\n",
    "        diary_prompt = prompt_dict['diary_img_with_book'].format(img_style=img_style, book_name=book_name, fav_sent=fav_sent)\n",
    "\n",
    "    # 이미지 생성\n",
    "    diary_img_urls = generate_image(diary_prompt)\n",
    "    \n",
    "#     # 이미지 저장\n",
    "#     save_start_time = time.time()\n",
    "#     save_img_by_url(diary_img_urls, diary_file_path)\n",
    "#     print(f'total save time: {time.time() - save_start_time:.2f} 초')\n",
    "    \n",
    "    return diary_img_urls"
   ],
   "outputs": []
  },
  {
   "cell_type": "code",
   "execution_count": 17,
   "metadata": {
    "ExecuteTime": {
     "end_time": "2024-07-18T05:31:03.033521Z",
     "start_time": "2024-07-18T05:31:03.030194Z"
    }
   },
   "source": [
    "# # 책 이름 없이 그림 생성\n",
    "# img_style = 'anime'\n",
    "# book_name = '어린 왕자'\n",
    "# fav_sent = '내가 좋아하는 사람이 나를 좋아해 주는 건 기적이야.'\n",
    "# flag_use_book_nm = False\n",
    "\n",
    "# # 이미지 생성 및 저장 \n",
    "# gen_diary_img(book_name, fav_sent, flag_use_book_nm, prompt_dict)\n",
    "\n",
    "# # 이미지 테스트\n",
    "# Image.open(f'img/test_diary/{book_name}_{str(flag_use_book_nm)}_diary.png')"
   ],
   "outputs": []
  },
  {
   "cell_type": "code",
   "execution_count": 18,
   "metadata": {
    "ExecuteTime": {
     "end_time": "2024-07-18T05:31:16.561176Z",
     "start_time": "2024-07-18T05:31:03.649046Z"
    }
   },
   "source": [
    "# 책 이름 넣고 그림 생성\n",
    "img_style = 'anime'\n",
    "book_name = '어린 왕자'\n",
    "fav_sent = '내가 좋아하는 사람이 나를 좋아해 주는 건 기적이야.'\n",
    "flag_use_book_nm = True\n",
    "\n",
    "# 이미지 생성 및 저장 \n",
    "diary_img_urls = gen_diary_img(book_name, img_style, fav_sent, flag_use_book_nm, prompt_dict)\n",
    "print(diary_img_urls)\n",
    "\n",
    "# 이미지 테스트\n",
    "# Image.open(f'img/test_diary/{book_name}_{str(flag_use_book_nm)}_diary.png')"
   ],
   "outputs": []
  },
  {
   "cell_type": "markdown",
   "metadata": {},
   "source": [
    "# AI 인물 채팅\n"
   ]
  },
  {
   "cell_type": "markdown",
   "metadata": {},
   "source": [
    "- 이슈사항 1) 인물 관계도랑 이어져서 character들을 정해야 할 것 같음\n",
    "- 이슈사항 2) semantic 기반의 hybrid 검색은 돈 더 많이 나가는 거 아님? -> 절약성 관련.. <br>\n",
    "             \"semantic_configuration\": f\"{search_index}-semantic-configuration\" <br>\n",
    "             \"query_type\": \"vector_semantic_hybrid\"\n",
    "- 이슈사항 3) client 새로 선언해야 됨?"
   ]
  },
  {
   "cell_type": "code",
   "execution_count": 32,
   "metadata": {
    "ExecuteTime": {
     "end_time": "2024-07-18T02:05:00.518700Z",
     "start_time": "2024-07-18T02:05:00.514588Z"
    }
   },
   "source": [
    "# rag node 생성 참조 블로그\n",
    "# https://eehoeskrap.tistory.com/771"
   ],
   "outputs": []
  },
  {
   "cell_type": "code",
   "execution_count": 55,
   "metadata": {
    "ExecuteTime": {
     "end_time": "2024-07-18T06:03:12.916322Z",
     "start_time": "2024-07-18T06:03:12.912146Z"
    }
   },
   "source": [
    "# search ai에 필요한 정보 선언\n",
    "\n",
    "endpoint = os.getenv(\"AZURE_OPENAI_ENDPOINT\",\"\").strip()\n",
    "search_endpoint = os.getenv('AZURE_AI_SEARCH_ENDPOINT')\n",
    "search_key = os.getenv(\"AZURE_AI_SEARCH_API_KEY\")\n",
    "search_index = os.getenv(\"AZURE_AI_SEARCH_INDEX\")\n",
    "embedding_model_name = \"text-embedding-ada-002\""
   ],
   "outputs": []
  },
  {
   "cell_type": "code",
   "execution_count": 56,
   "metadata": {
    "ExecuteTime": {
     "end_time": "2024-07-18T06:03:23.636092Z",
     "start_time": "2024-07-18T06:03:23.629199Z"
    },
    "code_folding": []
   },
   "source": [
    "# system_msg로 책의 OO 역할을 부여한 다음, 유저 질문에 답변\n",
    "# 24.07.17 : 말 어투 부여? 차갑게? 따뜻하게? 친절하게? 화내면서?\n",
    "# 24.07.17 : 속도 줄이는 parameter? -> data source 부문?? : \"strictness\": 3, \"top_n_documents\": 5,\n",
    "# 24.07.18 : stream = True -> backend에 어떻게 전달하고 다시 frontend로 어떻게 전달?\n",
    "# 24.07.18 : stream = True 할 때 바로 보여야 하는 거 아닌지?\n",
    "\n",
    "def get_ai_character_chat_fast(book_name, character, user_query):\n",
    "    system_msg = f\"당신의 유일한 역할은 {book_name} 책의 {character} 역할이다. {character} 역할이라고 생각하고 질문에 답변해.\"\n",
    "    response = client.chat.completions.create(\n",
    "        model=deployment_name,\n",
    "        messages= [\n",
    "        {\n",
    "        \"role\" : \"user\",\n",
    "        \"content\" : user_query\n",
    "        }],\n",
    "        max_tokens=300, # 1200\n",
    "        temperature=0,\n",
    "        top_p=1,\n",
    "        frequency_penalty=0,\n",
    "        presence_penalty=0,\n",
    "        stop=None,\n",
    "        stream=False,\n",
    "        extra_body={\n",
    "        \"data_sources\": [{\n",
    "            \"type\": \"azure_search\",\n",
    "            \"parameters\": {\n",
    "                \"endpoint\": f\"{search_endpoint}\",\n",
    "                \"index_name\": f\"{search_index}\",\n",
    "                \"semantic_configuration\": f\"{search_index}-semantic-configuration\",\n",
    "                \"query_type\": \"vector_semantic_hybrid\",\n",
    "                \"fields_mapping\": {\n",
    "                },\n",
    "                \"in_scope\": True,\n",
    "                \"role_information\": system_msg, # system message\n",
    "                \"filter\": None, # 필요시 최적화?\n",
    "                \"strictness\": 2, # default : 3 / 값을 낮추면 더 빠른 응답을 얻을 수 있지만, 정보의 정확성이 떨어질 수 있음\n",
    "                \"top_n_documents\": 3, # default : 5 / 검색 결과 개수 설정, '3'\n",
    "                \"authentication\": {\n",
    "                \"type\": \"api_key\",\n",
    "                \"key\": f\"{search_key}\"\n",
    "                },\n",
    "                \"embedding_dependency\": {\n",
    "                \"type\": \"deployment_name\",\n",
    "                \"deployment_name\": \"text-embedding-ada-002\"\n",
    "                }\n",
    "            }\n",
    "            }]\n",
    "        }\n",
    "    )\n",
    "\n",
    "    return response"
   ],
   "outputs": []
  },
  {
   "cell_type": "code",
   "execution_count": 57,
   "metadata": {
    "ExecuteTime": {
     "end_time": "2024-07-18T06:03:33.323944Z",
     "start_time": "2024-07-18T06:03:23.822887Z"
    }
   },
   "source": [
    "%%time\n",
    "\n",
    "# 걸리는 시간 (%%time 기준)\n",
    "# 1회 : 6.7초, 2회 : 6.95초, 3회 : 6.89초, 4회 : 7.5초, 5회 : 11.3초, 6회 : 9.7초 \n",
    "book_name = '어린 왕자'\n",
    "character = '파일럿' \n",
    "user_query = '석양을 볼 때 무슨 감정이 들어?'\n",
    "\n",
    "response = get_ai_character_chat_fast(book_name, character, user_query)\n",
    "\n",
    "print(response.choices[0].message.content)"
   ],
   "outputs": []
  },
  {
   "cell_type": "code",
   "execution_count": 24,
   "metadata": {
    "ExecuteTime": {
     "end_time": "2024-07-18T05:32:38.613153Z",
     "start_time": "2024-07-18T05:32:25.132341Z"
    }
   },
   "source": [
    "# 걸리는 시간 13.5초.\n",
    "book_name = '로미오와 줄리엣'\n",
    "character = '로미오' \n",
    "user_query = '왜 줄리엣과 도망치지 않은 거야? 너의 목숨보다 소중한 그녀잖아. 모든 것을 버려야지.'\n",
    "\n",
    "response = get_ai_character_chat_fast(book_name, character, user_query)\n",
    "\n",
    "print(response.choices[0].message.content)"
   ],
   "outputs": []
  },
  {
   "cell_type": "markdown",
   "metadata": {},
   "source": [
    "# 지난 줄거리 요약\n",
    "- 이슈사항 1) 폴라로이드 형식의 4컷 이미지가 잘 안 만들어짐 -> 지정한 4컷이 아닌 6컷, 9컷일 때 존재 (컷 순서 또한 의도한대로 되지 않는 듯 함)\n",
    "- 이슈사항 2) 그림 일기 생성처럼 그림에 텍스트가 같이 적히는 경우 존재"
   ]
  },
  {
   "cell_type": "code",
   "execution_count": 47,
   "metadata": {
    "ExecuteTime": {
     "end_time": "2024-07-18T05:50:22.103556Z",
     "start_time": "2024-07-18T05:50:22.083708Z"
    },
    "code_folding": [
     2,
     29,
     68,
     110,
     158,
     211,
     234
    ]
   },
   "source": [
    "# 현재까지 읽은 부분을 4개로 요약 -> 4개에서 키워드 추출\n",
    "# client -> 다시 정의 필요??\n",
    "def summary_plot(start_page, end_page, pdf_text_list, prompt_dict):\n",
    "    # 소설 시작부터 현재까지 읽은 페이지 데이터 얻기\n",
    "    context_book_str = slice_pdf_page(start_page, end_page, pdf_text_list)\n",
    "    \n",
    "    # keyword_system_message\n",
    "    kw_sys_msg = \"너의 유일한 역할은 주어진 소설 내용을 중심 사건으로 요약하는 것이다.\"\n",
    "    \n",
    "    # keyword prompt\n",
    "    keyword_prompt = prompt_dict['summary_keyword_plot'].format(context=context_book_str)\n",
    "    \n",
    "    # 결과\n",
    "    response = client.chat.completions.create(\n",
    "        model=deployment_name,\n",
    "        messages=[\n",
    "            {\"role\" : \"system\", \"content\" : kw_sys_msg}, # system_msg\n",
    "            {\"role\" : \"user\", \"content\" : keyword_prompt} # prompt\n",
    "        ],\n",
    "        # response_format={\"type\" : \"json_object\"}, # 답변 형식을 json으로 저장\n",
    "    )\n",
    "\n",
    "    result = response.choices[0].message.content\n",
    "    print(f'[INFO] Finish summary plot...')\n",
    "    \n",
    "    return result\n",
    "\n",
    "# preprocessing summary plot result\n",
    "# json.load(result) -> list 형태 일 때 전처리\n",
    "def _prep_gen_result_list_format(list_format):\n",
    "    sent_list = []\n",
    "    keyword_list = []\n",
    "\n",
    "    # 겉은 list, 안에는 dict\n",
    "    for dict_item in list_format:\n",
    "        try:\n",
    "            col_list = list(dict_item.keys())\n",
    "\n",
    "            # 문장 번호가 없는 경우\n",
    "            if len(col_list) == 2:\n",
    "                sent_col_idx = 0\n",
    "                keyword_col_idx = 1\n",
    "            else:\n",
    "                sent_col_idx = 1\n",
    "                keyword_col_idx = 2\n",
    "\n",
    "            # 요약 문장 추가\n",
    "            sent = dict_item[col_list[sent_col_idx]]\n",
    "            sent_list.append(sent)\n",
    "\n",
    "            # keyword가 string이면 list로 변환\n",
    "            keyword_obj = dict_item[col_list[keyword_col_idx]]\n",
    "\n",
    "            if isinstance(keyword_obj, str):\n",
    "                keyword_obj = keyword_obj.split(',')\n",
    "            else:\n",
    "                pass\n",
    "\n",
    "            # bookname + '배경' + keyword\n",
    "            keyword = [book_name + ' 배경'] + keyword_obj\n",
    "            keyword_list.append(keyword)\n",
    "        \n",
    "        except Exception as e:\n",
    "            print('list_format error: ', e)\n",
    "\n",
    "    return sent_list, keyword_list\n",
    "\n",
    "# json.load(result) -> dict 형태 일 때 전처리\n",
    "def _prep_gen_result_dict_format(dict_format):\n",
    "    sent_list = []\n",
    "    keyword_list = []\n",
    "\n",
    "    # 문장 key 정보\n",
    "    sent_key_list = list(dict_format.keys())\n",
    "    \n",
    "    for sent_key in sent_key_list:\n",
    "        try:\n",
    "            sent_info = dict_format[sent_key]\n",
    "            col_list = list(sent_info.keys())\n",
    "\n",
    "            # 문장 번호가 없는 경우\n",
    "            if len(col_list) == 2:\n",
    "                sent_col_idx = 0\n",
    "                keyword_col_idx = 1\n",
    "            else:\n",
    "                sent_col_idx = 1\n",
    "                keyword_col_idx = 2\n",
    "\n",
    "            # 요약 문장 추가\n",
    "            sent = sent_info[col_list[sent_col_idx]]\n",
    "            sent_list.append(sent)\n",
    "\n",
    "            # keyword가 string이면 list로 변환\n",
    "            keyword_obj = sent_info[col_list[keyword_col_idx]]\n",
    "\n",
    "            if isinstance(keyword_obj, str):\n",
    "                keyword_obj = keyword_obj.split(',')\n",
    "            else:\n",
    "                pass\n",
    "\n",
    "            # bookname + '배경' + keyword\n",
    "            keyword = [book_name + ' 배경'] + keyword_obj\n",
    "            keyword_list.append(keyword)\n",
    "        \n",
    "        except Exception as e:\n",
    "            print('dict format error: ', e)\n",
    "\n",
    "    return sent_list, keyword_list\n",
    "\n",
    "# json.load(result) -> str 형태 일 때 전처리\n",
    "def _prep_gen_result_str_format(str_format):\n",
    "    try:\n",
    "        # 정규표현식으로 json 형태 데이터 추출\n",
    "        json_objects = re.findall(r'\\{\\n.*?\\n\\}', str_format, re.DOTALL)\n",
    "\n",
    "        # JSON 문자열을 json.loads를 통해 dict로 변환\n",
    "        dict_list = [json.loads(obj) for obj in json_objects] # dict_list 안에 있는 값들은 dict 형태를 가지게 됨\n",
    "    \n",
    "    except Exception as e:\n",
    "        print('str_format json error: ', e)\n",
    "    \n",
    "    sent_list = []\n",
    "    keyword_list = []\n",
    "    \n",
    "    for dict_item in dict_list:\n",
    "        try:\n",
    "            col_list = list(dict_item.keys())\n",
    "\n",
    "            # 문장 번호가 없는 경우\n",
    "            if len(col_list) == 2:\n",
    "                sent_col_idx = 0\n",
    "                keyword_col_idx = 1\n",
    "            else:\n",
    "                sent_col_idx = 1\n",
    "                keyword_col_idx = 2\n",
    "\n",
    "            # 요약 문장 추가\n",
    "            sent = dict_item[col_list[sent_col_idx]]\n",
    "            sent_list.append(sent)\n",
    "\n",
    "            # keyword가 string이면 list로 변환\n",
    "            keyword_obj = dict_item[col_list[keyword_col_idx]]\n",
    "\n",
    "            if isinstance(keyword_obj, str):\n",
    "                keyword_obj = keyword_obj.split(',')\n",
    "            else:\n",
    "                pass\n",
    "\n",
    "            # bookname + '배경' + keyword\n",
    "            keyword = [book_name + ' 배경'] + keyword_obj\n",
    "            keyword_list.append(keyword)\n",
    "\n",
    "        except Exception as e:\n",
    "            print('str_format error: ', e)\n",
    "\n",
    "    return sent_list, keyword_list\n",
    "\n",
    "# 비용 효율성을 올리기위해 최대한 json 형태를 정제하려 노력했다.\n",
    "def prep_summary_result(result):\n",
    "    # 재시도 한번만 시도\n",
    "    attempt = 0\n",
    "    while (attempt <= 1):\n",
    "        try:\n",
    "            print(f'[INFO] Start num {attempt} prep_summary_result...')    \n",
    "            # \"\"\"json 제거\n",
    "            start_idx = result.find('\\n')\n",
    "            end_idx = result.rfind('\\n')\n",
    "            prep_result = result[start_idx+1:end_idx] # string\n",
    "\n",
    "            sent_list = []\n",
    "            keyword_list = []\n",
    "            # string 데이터가 json으로 변환\n",
    "            try:\n",
    "                json_result = json.loads(prep_result) # 겉은 list, 안에는 dict\n",
    "                # 겉은 list, 안에는 dict\n",
    "                if isinstance(json_result, list):\n",
    "                    print('[INFO] _prep_gen_result_list_format...')    \n",
    "                    sent_list, keyword_list = _prep_gen_result_list_format(json_result)\n",
    "                    break\n",
    "                # 겉은 dict, 안에는 dict\n",
    "                elif isinstance(json_result, dict):\n",
    "                    print('[INFO] _prep_gen_result_dict_format...')\n",
    "                    sent_list, keyword_list = _prep_gen_result_dict_format(json_result)\n",
    "                    break\n",
    "                else:\n",
    "                    # 함수 다시 호출...\n",
    "                    print('#' * 30)\n",
    "                    print('Unknown error...')\n",
    "                    print(json_result)\n",
    "                    attempt += 1\n",
    "                    \n",
    "            except Exception as e2:\n",
    "                # 형태 오류, 정규표현식으로 가져오기\n",
    "                try:\n",
    "                    print('[INFO] _prep_gen_result_str_format...')\n",
    "                    ent_list, keyword_list = _prep_gen_result_str_format(prep_result)\n",
    "                    break\n",
    "                # 함수 다시 호출하기\n",
    "                except Exception as e3:\n",
    "                    print('#' * 30)\n",
    "                    print('e3 error 함수 재실행: ', e3)\n",
    "                    attempt += 1\n",
    "        \n",
    "        except Exception as e1:\n",
    "            print('#' * 30)\n",
    "            print('e1 error 함수 재실행: ', e1)\n",
    "            attempt += 1\n",
    "    \n",
    "    return sent_list, keyword_list\n",
    "\n",
    "# 지난 줄거리를 keyword로 요약한 다음 keyword 기반으로 그림 생성\n",
    "def gen_summary_img(sent_keyword_list, img_style, book_name, prompt_dict):\n",
    "    summary_img_url_list = []\n",
    "    \n",
    "    # key값들이 변할 수 있으므로 index로 접근해야 함\n",
    "    for img_idx, sent_keyword in enumerate(sent_keyword_list):\n",
    "        # 저장 장소 지정\n",
    "        img_file_path = f'img/test_keyword/{book_name}_{img_style}_{img_idx}_.png'\n",
    "        \n",
    "        # init image prompt / img_style : anime, dreamscape\n",
    "        summary_img_prompt = prompt_dict['summary_img'].format(img_style=img_style, keywords=', '.join(sent_keyword))\n",
    "\n",
    "        # 이미지 생성\n",
    "        summary_img_urls = generate_image(summary_img_prompt)\n",
    "        summary_img_url_list.append(summary_img_urls)\n",
    "        \n",
    "        # 이미지 저장\n",
    "        # save_img_by_url(summary_img_urls, img_file_path)\n",
    "        \n",
    "        print(f'[INFO] Finish generate image {img_idx}...')\n",
    "        \n",
    "    return summary_img_url_list\n",
    "        \n",
    "# 줄거리 요약 및 이미지 얻기\n",
    "def get_summary_plot_img(book_name, start_page, end_page, pdf_text_list, img_style, prompt_dict):\n",
    "    try:\n",
    "        # 줄거리 요약\n",
    "        summary_plot_result = summary_plot(start_page, end_page, pdf_text_list, prompt_dict)\n",
    "\n",
    "        # 줄거리 요약 전처리\n",
    "        sent_list, keyword_list = prep_summary_result(summary_plot_result)\n",
    "\n",
    "        # 키워드 기반의 이미지 생성 (파일 저장)\n",
    "        summary_img_url_list = gen_summary_img(keyword_list, img_style, book_name, prompt_dict)\n",
    "        \n",
    "        return sent_list, keyword_list, summary_img_url_list\n",
    "    \n",
    "    except Exception as e:\n",
    "        print('get_summary_plot_img error: ', e)\n",
    "        print(summary_plot_result)"
   ],
   "outputs": []
  },
  {
   "cell_type": "code",
   "execution_count": 53,
   "metadata": {
    "ExecuteTime": {
     "end_time": "2024-07-18T06:00:52.663905Z",
     "start_time": "2024-07-18T05:59:53.642615Z"
    }
   },
   "source": [
    "# 줄거리 요약 및 줄거리 keyword 기반 그림 생성 (책이름, anime 기반)\n",
    "\n",
    "book_name = '어린 왕자'\n",
    "start_page = 4\n",
    "end_page = 22\n",
    "img_style = 'anime' # dreamscape\n",
    "\n",
    "# 줄거리 요약 및 이미지 생성\n",
    "summary_sent_list, summary_keyword_list, summary_img_url_list = get_summary_plot_img(book_name, start_page, end_page, lp_text_list, img_style, prompt_dict)"
   ],
   "outputs": []
  },
  {
   "cell_type": "code",
   "execution_count": 54,
   "metadata": {
    "ExecuteTime": {
     "end_time": "2024-07-18T06:00:52.689027Z",
     "start_time": "2024-07-18T06:00:52.670870Z"
    }
   },
   "source": [
    "for idx, (summary_sent, summary_keyword, summary_img) in enumerate(zip(summary_sent_list, summary_keyword_list, summary_img_url_list)):\n",
    "    print('#' * 50)\n",
    "    print(f'idx: {idx}, sent: {summary_sent}')\n",
    "    print(f'idx: {idx}, keyword: {summary_keyword}')\n",
    "    print(f'idx: {idx}, img_url: {summary_img}')"
   ],
   "outputs": []
  },
  {
   "cell_type": "markdown",
   "metadata": {},
   "source": [
    "# KABA WIKI\n",
    "기능 : 모르는 문장이나 단어가 나올 때\n",
    "- 1. 책 내용 기반으로 답변 -> 범위 지정이 어려움, 범위를 지정할 경우 엉뚱한 답변이 나옴...\n",
    "- 2. 웹 검색을 통한 제공 -> 어디서 처리? bing-search로 개발?\n",
    "- 3. 주인공이 '나' 인지? '어린 왕자' 인지??.."
   ]
  },
  {
   "cell_type": "code",
   "execution_count": 50,
   "metadata": {
    "ExecuteTime": {
     "end_time": "2024-07-18T05:55:54.398697Z",
     "start_time": "2024-07-18T05:55:54.388849Z"
    },
    "code_folding": [
     1
    ]
   },
   "source": [
    "# system_msg로 책의 OO 역할을 부여한 다음, 유저 질문에 답변\n",
    "def get_wiki_context_answer(book_name, start_page, end_page, book_text_list, user_query):\n",
    "    # init system message\n",
    "    system_msg = f\"당신의 유일한 역할은 {book_name} 책의 주인공이다. 책 내용을 기반으로 질문에 답변해.\"\n",
    "    \n",
    "    # # 소설 시작부터 현재까지 읽은 페이지 데이터\n",
    "    # context_book_str = slice_pdf_page(start_page, end_page, book_text_list)\n",
    "\n",
    "    # # init prompt\n",
    "    # prompt = prompt_dict['kaba_wiki'].format(context=context_book_str, user_query=user_query)\n",
    "    \n",
    "    response = client.chat.completions.create(\n",
    "        model=deployment_name,\n",
    "        messages= [\n",
    "        {\n",
    "        \"role\": \"user\",\n",
    "        \"content\": user_query # prompt\n",
    "        }],\n",
    "        max_tokens=1200,\n",
    "        temperature=0,\n",
    "        top_p=1,\n",
    "        frequency_penalty=0,\n",
    "        presence_penalty=0,\n",
    "        stop=None,\n",
    "        stream=False,\n",
    "        extra_body={\n",
    "        \"data_sources\": [{\n",
    "            \"type\": \"azure_search\",\n",
    "            \"parameters\": {\n",
    "                \"endpoint\": f\"{search_endpoint}\",\n",
    "                \"index_name\": f\"{search_index}\",\n",
    "                \"semantic_configuration\": f\"{search_index}-semantic-configuration\",\n",
    "                \"query_type\": \"vector_semantic_hybrid\",\n",
    "                \"fields_mapping\": {\n",
    "                    # \"content_fields_separator\": \"\\n\",\n",
    "                    # \"content_fields\": None,\n",
    "                    # \"filepath_field\": None,\n",
    "                    # \"title_field\": \"title\",\n",
    "                    # \"url_field\": None,\n",
    "                    # \"vector_fields\": [\n",
    "                    #   \"text_vector\"\n",
    "                    # ]\n",
    "                },\n",
    "                \"in_scope\": True,\n",
    "                \"role_information\": system_msg, # system message\n",
    "                \"filter\": None,\n",
    "                \"strictness\": 3,\n",
    "                \"top_n_documents\": 5,\n",
    "                \"authentication\": {\n",
    "                \"type\": \"api_key\",\n",
    "                \"key\": f\"{search_key}\"\n",
    "                },\n",
    "                \"embedding_dependency\": {\n",
    "                \"type\": \"deployment_name\",\n",
    "                \"deployment_name\": \"text-embedding-ada-002\"\n",
    "                }\n",
    "            }\n",
    "            }]\n",
    "        }\n",
    "    )\n",
    "\n",
    "    return response.choices[0].message.content"
   ],
   "outputs": []
  },
  {
   "cell_type": "code",
   "execution_count": 51,
   "metadata": {
    "ExecuteTime": {
     "end_time": "2024-07-18T05:56:07.185504Z",
     "start_time": "2024-07-18T05:55:55.428170Z"
    }
   },
   "source": [
    "# context answer\n",
    "book_name = '어린 왕자'\n",
    "start_page = 4\n",
    "end_page = 22\n",
    "\n",
    "user_query = '어른들 세계에서 많이 살았다는 얘기다. 는 어떤 의미야?'\n",
    "# user_query = \"'나에게 양 한마리를 그려줘'는 어떤 의미야?\"\n",
    "\n",
    "response = get_wiki_context_answer(book_name, start_page, end_page, lp_text_list, user_query)\n",
    "print(response)"
   ],
   "outputs": []
  },
  {
   "cell_type": "code",
   "execution_count": 52,
   "metadata": {
    "ExecuteTime": {
     "end_time": "2024-07-18T05:56:17.617259Z",
     "start_time": "2024-07-18T05:56:07.190132Z"
    }
   },
   "source": [
    "# user_query\n",
    "user_query = \"'나에게 양 한마리를 그려줘'는 어떤 의미야?\"\n",
    "\n",
    "response = get_wiki_context_answer(book_name, start_page, end_page, lp_text_list, user_query)\n",
    "print(response)"
   ],
   "outputs": []
  },
  {
   "cell_type": "code",
   "execution_count": null,
   "metadata": {},
   "source": [],
   "outputs": []
  },
  {
   "cell_type": "code",
   "execution_count": null,
   "metadata": {},
   "source": [],
   "outputs": []
  },
  {
   "cell_type": "code",
   "execution_count": null,
   "metadata": {},
   "source": [],
   "outputs": []
  }
 ],
 "metadata": {
  "kernelspec": {
   "display_name": "Python 3 (ipykernel)",
   "language": "python",
   "name": "python3"
  },
  "language_info": {
   "codemirror_mode": {
    "name": "ipython",
    "version": 3
   },
   "file_extension": ".py",
   "mimetype": "text/x-python",
   "name": "python",
   "nbconvert_exporter": "python",
   "pygments_lexer": "ipython3",
   "version": "3.11.4"
  },
  "toc": {
   "base_numbering": 1,
   "nav_menu": {},
   "number_sections": true,
   "sideBar": true,
   "skip_h1_title": false,
   "title_cell": "Table of Contents",
   "title_sidebar": "Contents",
   "toc_cell": false,
   "toc_position": {},
   "toc_section_display": true,
   "toc_window_display": false
  }
 },
 "nbformat": 4,
 "nbformat_minor": 2
}
